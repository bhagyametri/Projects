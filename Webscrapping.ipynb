{
 "cells": [
  {
   "cell_type": "code",
   "execution_count": 5,
   "id": "2d453291-14be-4e69-81d7-0f7dd4dc5d90",
   "metadata": {},
   "outputs": [
    {
     "name": "stdout",
     "output_type": "stream",
     "text": [
      "Requirement already satisfied: selenium in c:\\users\\anand\\anaconda3\\lib\\site-packages (4.21.0)\n",
      "Requirement already satisfied: urllib3<3,>=1.26 in c:\\users\\anand\\anaconda3\\lib\\site-packages (from urllib3[socks]<3,>=1.26->selenium) (2.0.7)\n",
      "Requirement already satisfied: trio~=0.17 in c:\\users\\anand\\anaconda3\\lib\\site-packages (from selenium) (0.25.1)\n",
      "Requirement already satisfied: trio-websocket~=0.9 in c:\\users\\anand\\anaconda3\\lib\\site-packages (from selenium) (0.11.1)\n",
      "Requirement already satisfied: certifi>=2021.10.8 in c:\\users\\anand\\anaconda3\\lib\\site-packages (from selenium) (2024.2.2)\n",
      "Requirement already satisfied: typing_extensions>=4.9.0 in c:\\users\\anand\\anaconda3\\lib\\site-packages (from selenium) (4.9.0)\n",
      "Requirement already satisfied: attrs>=23.2.0 in c:\\users\\anand\\anaconda3\\lib\\site-packages (from trio~=0.17->selenium) (23.2.0)\n",
      "Requirement already satisfied: sortedcontainers in c:\\users\\anand\\anaconda3\\lib\\site-packages (from trio~=0.17->selenium) (2.4.0)\n",
      "Requirement already satisfied: idna in c:\\users\\anand\\anaconda3\\lib\\site-packages (from trio~=0.17->selenium) (3.4)\n",
      "Requirement already satisfied: outcome in c:\\users\\anand\\anaconda3\\lib\\site-packages (from trio~=0.17->selenium) (1.3.0.post0)\n",
      "Requirement already satisfied: sniffio>=1.3.0 in c:\\users\\anand\\anaconda3\\lib\\site-packages (from trio~=0.17->selenium) (1.3.0)\n",
      "Requirement already satisfied: cffi>=1.14 in c:\\users\\anand\\anaconda3\\lib\\site-packages (from trio~=0.17->selenium) (1.16.0)\n",
      "Requirement already satisfied: wsproto>=0.14 in c:\\users\\anand\\anaconda3\\lib\\site-packages (from trio-websocket~=0.9->selenium) (1.2.0)\n",
      "Requirement already satisfied: pysocks!=1.5.7,<2.0,>=1.5.6 in c:\\users\\anand\\anaconda3\\lib\\site-packages (from urllib3[socks]<3,>=1.26->selenium) (1.7.1)\n",
      "Requirement already satisfied: pycparser in c:\\users\\anand\\anaconda3\\lib\\site-packages (from cffi>=1.14->trio~=0.17->selenium) (2.21)\n",
      "Requirement already satisfied: h11<1,>=0.9.0 in c:\\users\\anand\\anaconda3\\lib\\site-packages (from wsproto>=0.14->trio-websocket~=0.9->selenium) (0.14.0)\n"
     ]
    }
   ],
   "source": [
    "!pip install selenium"
   ]
  },
  {
   "cell_type": "code",
   "execution_count": 9,
   "id": "61fc9e4f-778f-475c-b3f0-935256c0a551",
   "metadata": {},
   "outputs": [],
   "source": [
    "from selenium import webdriver\n",
    "from selenium.webdriver.common.by import By\n",
    "from selenium.webdriver.common.keys import Keys"
   ]
  },
  {
   "cell_type": "code",
   "execution_count": 10,
   "id": "8f860778-0f8f-4cd1-a4d7-e32edfcfbc43",
   "metadata": {},
   "outputs": [],
   "source": [
    "driver=webdriver.Chrome()"
   ]
  },
  {
   "cell_type": "code",
   "execution_count": 11,
   "id": "4774e33a-e2b8-4409-bff2-0ff8a36b279c",
   "metadata": {},
   "outputs": [],
   "source": [
    "driver.get(\"https://imdb.com\")"
   ]
  },
  {
   "cell_type": "code",
   "execution_count": 12,
   "id": "4cd75492-e6e9-4f06-acaa-3d0f20dceac3",
   "metadata": {},
   "outputs": [],
   "source": [
    "search=driver.find_element(By.XPATH,\"//*[@id='suggestion-search']\")"
   ]
  },
  {
   "cell_type": "code",
   "execution_count": 13,
   "id": "e2118a56-f54b-447f-abee-281482128605",
   "metadata": {},
   "outputs": [
    {
     "data": {
      "text/plain": [
       "<selenium.webdriver.remote.webelement.WebElement (session=\"dddf3ab417aaa4bee032a1acf44fb8cb\", element=\"f.A71FB41193672C5781C67E331DFF14BC.d.2D6A7448CAAE2EC026F09CACE8D98CAD.e.18\")>"
      ]
     },
     "execution_count": 13,
     "metadata": {},
     "output_type": "execute_result"
    }
   ],
   "source": [
    "search"
   ]
  },
  {
   "cell_type": "code",
   "execution_count": 14,
   "id": "f19eeaa2-1e3a-4c64-868e-b8221f1e9203",
   "metadata": {},
   "outputs": [],
   "source": [
    "search.send_keys(\"abc\")"
   ]
  },
  {
   "cell_type": "code",
   "execution_count": 15,
   "id": "744147b1-c00a-4897-ba3b-7cb7a8b0cbff",
   "metadata": {},
   "outputs": [],
   "source": [
    "search.send_keys(Keys.RETURN)"
   ]
  },
  {
   "cell_type": "code",
   "execution_count": 16,
   "id": "6c8a251a-6c31-4e88-b33f-8b7cf9e7e3ab",
   "metadata": {},
   "outputs": [],
   "source": [
    "search=driver.find_element(By.XPATH,\"//*[@id='suggestion-search']\")"
   ]
  },
  {
   "cell_type": "code",
   "execution_count": 17,
   "id": "fa45c389-4d2e-45f4-a5e0-f263c5236c3d",
   "metadata": {},
   "outputs": [],
   "source": [
    "search.send_keys(\"Leonardo dicaprio\")"
   ]
  },
  {
   "cell_type": "code",
   "execution_count": 22,
   "id": "e4c6aa83-a25b-4033-81ef-22384ff3fa77",
   "metadata": {},
   "outputs": [],
   "source": [
    "search.send_keys(Keys.RETURN)"
   ]
  },
  {
   "cell_type": "code",
   "execution_count": 24,
   "id": "084c4a78-9902-4295-a493-9687bbc6cfd9",
   "metadata": {},
   "outputs": [],
   "source": [
    "movies=driver.find_elements(By.XPATH,\"//*[@id='__next']/main/div[2]/div[4]/section/div/div[1]/section[3]/div[2]/ul/li\")"
   ]
  },
  {
   "cell_type": "code",
   "execution_count": 25,
   "id": "db67704b-16e0-4c90-853e-7be07fbe6cfa",
   "metadata": {},
   "outputs": [
    {
     "data": {
      "text/plain": [
       "5"
      ]
     },
     "execution_count": 25,
     "metadata": {},
     "output_type": "execute_result"
    }
   ],
   "source": [
    "len(movies)"
   ]
  },
  {
   "cell_type": "code",
   "execution_count": 26,
   "id": "666ed196-5c78-406e-851c-86a3bab27f33",
   "metadata": {},
   "outputs": [
    {
     "data": {
      "text/plain": [
       "'Leonardo DiCaprio: Most Wanted!\\n2021TV Movie\\nWoody Allen, Ellen Barkin'"
      ]
     },
     "execution_count": 26,
     "metadata": {},
     "output_type": "execute_result"
    }
   ],
   "source": [
    "movies[0].text"
   ]
  },
  {
   "cell_type": "code",
   "execution_count": 27,
   "id": "a403941c-f7a8-47ba-9374-d73bd8791f06",
   "metadata": {},
   "outputs": [
    {
     "name": "stdout",
     "output_type": "stream",
     "text": [
      "Leonardo DiCaprio: Most Wanted!\n",
      "2021TV Movie\n",
      "Woody Allen, Ellen Barkin\n",
      "Oppo Find: Leonardo DiCaprio\n",
      "2011Video\n",
      "Leonardo DiCaprio, Marine Vacth\n",
      "Before the Flood\n",
      "2016\n",
      "Leonardo DiCaprio, Ban Ki-moon\n",
      "Leonardo DiCaprio: In His Own Words\n",
      "1998\n",
      "Wild Aid: Leonardo DiCaprio and Jackie Chan\n",
      "2011Video\n",
      "Jackie Chan, Leonardo DiCaprio\n"
     ]
    }
   ],
   "source": [
    "for i in movies:\n",
    "    print(i.text)"
   ]
  },
  {
   "cell_type": "code",
   "execution_count": 28,
   "id": "65142a29-2d54-4895-aaf1-7f5bc3e038fc",
   "metadata": {},
   "outputs": [
    {
     "name": "stdout",
     "output_type": "stream",
     "text": [
      "Before the Flood\n",
      "2016\n",
      "Leonardo DiCaprio, Ban Ki-moon\n",
      "\n",
      "Leonardo DiCaprio: In His Own Words\n",
      "1998\n",
      "\n"
     ]
    }
   ],
   "source": [
    "#Sorting in Descending Order by Year To sort the list of movies by year in descending order:\n",
    "import re\n",
    "\n",
    "movies = [\n",
    "    \"Leonardo DiCaprio: Most Wanted!\\n2021TV Movie\\nWoody Allen, Ellen Barkin\",\n",
    "    \"Oppo Find: Leonardo DiCaprio\\n2011Video\\nLeonardo DiCaprio, Marine Vacth\",\n",
    "    \"Before the Flood\\n2016\\nLeonardo DiCaprio, Ban Ki-moon\",\n",
    "    \"Leonardo DiCaprio: In His Own Words\\n1998\",\n",
    "    \"Wild Aid: Leonardo DiCaprio and Jackie Chan\\n2011Video\\nJackie Chan, Leonardo DiCaprio\"\n",
    "]\n",
    "\n",
    "# Function to extract the year from the movie string\n",
    "def extract_year(movie):\n",
    "    match = re.search(r'\\b\\d{4}\\b', movie)\n",
    "    return int(match.group(0)) if match else None\n",
    "\n",
    "# Create a list of tuples (year, movie) and sort by year in descending order\n",
    "movies_with_years = [(extract_year(movie), movie) for movie in movies if extract_year(movie) is not None]\n",
    "movies_with_years.sort(key=lambda x: x[0], reverse=True)\n",
    "\n",
    "# Extract the sorted movies\n",
    "sorted_movies = [movie for year, movie in movies_with_years]\n",
    "\n",
    "# Print the sorted movies\n",
    "for movie in sorted_movies:\n",
    "    print(movie)\n",
    "    print()  # For better readability\n"
   ]
  },
  {
   "cell_type": "code",
   "execution_count": null,
   "id": "01bf94e6-c9e5-4602-9c4a-ca2fb823ea15",
   "metadata": {},
   "outputs": [],
   "source": []
  }
 ],
 "metadata": {
  "kernelspec": {
   "display_name": "Python 3 (ipykernel)",
   "language": "python",
   "name": "python3"
  },
  "language_info": {
   "codemirror_mode": {
    "name": "ipython",
    "version": 3
   },
   "file_extension": ".py",
   "mimetype": "text/x-python",
   "name": "python",
   "nbconvert_exporter": "python",
   "pygments_lexer": "ipython3",
   "version": "3.11.7"
  }
 },
 "nbformat": 4,
 "nbformat_minor": 5
}
